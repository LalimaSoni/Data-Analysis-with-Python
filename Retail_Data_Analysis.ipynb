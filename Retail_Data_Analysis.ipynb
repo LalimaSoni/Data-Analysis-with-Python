{
 "cells": [
  {
   "cell_type": "markdown",
   "metadata": {},
   "source": [
    "## Retail_Data_Analysis\n",
    "Restail data will be used for analysis for store XYZ.\n",
    "<br>Raw data set has 2009 sales records which is available month wise for some random dates.\n",
    "<br>Each available dates having multiple zip data file for different outlets of store XYZ.\n",
    "\n",
    "<b> Process involves</b> - Data extraction , Data cleaning , Data analysis, Visualization\n",
    "\n",
    "This Data anaysis covers below mentioned questions\n",
    "\n",
    "Q.1 Which month most number of order taken place in 2009 ?\n",
    "<br>Q.2.a - Top 10 product which sold most by OnHand & OnOrder ? \n",
    "<br>Q.2.b - Top 10 product which sold least by OnHand & OnOrder ?\n",
    "<br>Q.3 In 2009 which storeId did highest sales ?\n"
   ]
  },
  {
   "cell_type": "markdown",
   "metadata": {},
   "source": [
    "## Data Extraction\n",
    "### 1. Read all .txt.gz files from multiple folders\n",
    "### Create final dump(RawData.txt) and save into local drive"
   ]
  },
  {
   "cell_type": "code",
   "execution_count": 1,
   "metadata": {},
   "outputs": [
    {
     "name": "stdout",
     "output_type": "stream",
     "text": [
      "C:\\Users\\Indrajeet\\AppData\\Local\\Programs\\Python\\Python38-32\\Scripts\n",
      "completed\n"
     ]
    }
   ],
   "source": [
    "import gzip\n",
    "import os\n",
    "import numpy as np\n",
    "import csv\n",
    "import pandas as pd\n",
    "\n",
    "# take current dir\n",
    "thisdir =  os.getcwd()\n",
    "print(thisdir)\n",
    "file3 = \"\"\n",
    "        \n",
    "# r=root, d=directories, f = files # serach for keyword \".txt.gz\" in current dir\n",
    "for r, d, f in os.walk(thisdir):\n",
    "    for tarfile in f:\n",
    "        if tarfile.endswith(\".txt.gz\"):\n",
    "            # save the path of all .txt.gz file into tarfile2\n",
    "            tarfile2 = os.path.join(r, tarfile)\n",
    "            #print(tarfile)\n",
    "            #print(tarfile2)\n",
    "            # unzip each .txt.gz \n",
    "            with gzip.open(tarfile2, 'rt') as f1:\n",
    "                # read each .txt and save to file2\n",
    "                file2 = f1.read()\n",
    "            # concate each .txt content into file3 and make final dump\n",
    "            file3 += file2\n",
    "\n",
    "#print(file3)\n",
    "# Save final dump into local drive\n",
    "csv_file =  open('RawData.txt', 'wt')\n",
    "csv_file.write(file3)\n",
    "csv_file.close()\n",
    "\n",
    "print(\"completed\")"
   ]
  },
  {
   "cell_type": "markdown",
   "metadata": {},
   "source": [
    "### 2. Read Final dump (RawData.txt) for analysis"
   ]
  },
  {
   "cell_type": "code",
   "execution_count": 2,
   "metadata": {},
   "outputs": [
    {
     "data": {
      "text/html": [
       "<div>\n",
       "<style scoped>\n",
       "    .dataframe tbody tr th:only-of-type {\n",
       "        vertical-align: middle;\n",
       "    }\n",
       "\n",
       "    .dataframe tbody tr th {\n",
       "        vertical-align: top;\n",
       "    }\n",
       "\n",
       "    .dataframe thead th {\n",
       "        text-align: right;\n",
       "    }\n",
       "</style>\n",
       "<table border=\"1\" class=\"dataframe\">\n",
       "  <thead>\n",
       "    <tr style=\"text-align: right;\">\n",
       "      <th></th>\n",
       "      <th>Date</th>\n",
       "      <th>StoreID</th>\n",
       "      <th>StoreName</th>\n",
       "      <th>ProductID</th>\n",
       "      <th>ProductName</th>\n",
       "      <th>Color</th>\n",
       "      <th>Size</th>\n",
       "      <th>Manufacturer</th>\n",
       "      <th>OnHandQuantity</th>\n",
       "      <th>OnOrderQuantity</th>\n",
       "      <th>SafetyStockQuantity</th>\n",
       "      <th>UnitCost</th>\n",
       "      <th>DaysInStock</th>\n",
       "      <th>MinDayInStock</th>\n",
       "      <th>MaxDayInStock</th>\n",
       "    </tr>\n",
       "  </thead>\n",
       "  <tbody>\n",
       "    <tr>\n",
       "      <th>0</th>\n",
       "      <td>2009-01-03</td>\n",
       "      <td>1</td>\n",
       "      <td>Contoso Seattle No.1 Store</td>\n",
       "      <td>6</td>\n",
       "      <td>Contoso 2G MP3 Player E200 Black</td>\n",
       "      <td>Black</td>\n",
       "      <td>1.6 x 0.4 x 3.7</td>\n",
       "      <td>Contoso, Ltd</td>\n",
       "      <td>19</td>\n",
       "      <td>0</td>\n",
       "      <td>24</td>\n",
       "      <td>11.0000</td>\n",
       "      <td>60</td>\n",
       "      <td>43</td>\n",
       "      <td>76</td>\n",
       "    </tr>\n",
       "    <tr>\n",
       "      <th>1</th>\n",
       "      <td>2009-01-03</td>\n",
       "      <td>1</td>\n",
       "      <td>Contoso Seattle No.1 Store</td>\n",
       "      <td>29</td>\n",
       "      <td>Contoso 32GB Video MP3 Player M3200 White</td>\n",
       "      <td>White</td>\n",
       "      <td>1 x 1.6 x 3.7</td>\n",
       "      <td>Contoso, Ltd</td>\n",
       "      <td>19</td>\n",
       "      <td>0</td>\n",
       "      <td>12</td>\n",
       "      <td>84.4900</td>\n",
       "      <td>58</td>\n",
       "      <td>11</td>\n",
       "      <td>97</td>\n",
       "    </tr>\n",
       "    <tr>\n",
       "      <th>2</th>\n",
       "      <td>2009-01-03</td>\n",
       "      <td>1</td>\n",
       "      <td>Contoso Seattle No.1 Store</td>\n",
       "      <td>31</td>\n",
       "      <td>Contoso 32GB Video MP3 Player M3200 Orange</td>\n",
       "      <td>Orange</td>\n",
       "      <td>2.6 x 2.5 x 0.6</td>\n",
       "      <td>Contoso, Ltd</td>\n",
       "      <td>19</td>\n",
       "      <td>0</td>\n",
       "      <td>6</td>\n",
       "      <td>84.4900</td>\n",
       "      <td>63</td>\n",
       "      <td>17</td>\n",
       "      <td>111</td>\n",
       "    </tr>\n",
       "    <tr>\n",
       "      <th>3</th>\n",
       "      <td>2009-01-03</td>\n",
       "      <td>1</td>\n",
       "      <td>Contoso Seattle No.1 Store</td>\n",
       "      <td>51</td>\n",
       "      <td>WWI 2GB Pulse Smart pen M100 Blue</td>\n",
       "      <td>Blue</td>\n",
       "      <td>6 x 0.5 x 0.5</td>\n",
       "      <td>Wide World Importers</td>\n",
       "      <td>19</td>\n",
       "      <td>0</td>\n",
       "      <td>6</td>\n",
       "      <td>91.9500</td>\n",
       "      <td>79</td>\n",
       "      <td>12</td>\n",
       "      <td>86</td>\n",
       "    </tr>\n",
       "    <tr>\n",
       "      <th>4</th>\n",
       "      <td>2009-01-03</td>\n",
       "      <td>1</td>\n",
       "      <td>Contoso Seattle No.1 Store</td>\n",
       "      <td>54</td>\n",
       "      <td>WWI 4GB Video Recording Pen X200 Red</td>\n",
       "      <td>Red</td>\n",
       "      <td>5.1  x 2.4  x 3.9</td>\n",
       "      <td>Wide World Importers</td>\n",
       "      <td>23</td>\n",
       "      <td>4</td>\n",
       "      <td>18</td>\n",
       "      <td>98.0700</td>\n",
       "      <td>30</td>\n",
       "      <td>30</td>\n",
       "      <td>71</td>\n",
       "    </tr>\n",
       "    <tr>\n",
       "      <th>5</th>\n",
       "      <td>2009-01-03</td>\n",
       "      <td>1</td>\n",
       "      <td>Contoso Seattle No.1 Store</td>\n",
       "      <td>78</td>\n",
       "      <td>NT Wireless Bluetooth Stereo Headphones E302 S...</td>\n",
       "      <td>Silver</td>\n",
       "      <td>5.5x 6.5 x 2.5</td>\n",
       "      <td>Northwind Traders</td>\n",
       "      <td>19</td>\n",
       "      <td>0</td>\n",
       "      <td>6</td>\n",
       "      <td>18.6500</td>\n",
       "      <td>70</td>\n",
       "      <td>29</td>\n",
       "      <td>60</td>\n",
       "    </tr>\n",
       "    <tr>\n",
       "      <th>6</th>\n",
       "      <td>2009-01-03</td>\n",
       "      <td>1</td>\n",
       "      <td>Contoso Seattle No.1 Store</td>\n",
       "      <td>90</td>\n",
       "      <td>NT Wireless Transmitter and Bluetooth Headphon...</td>\n",
       "      <td>Silver</td>\n",
       "      <td>4.5 x 8.4 x 2.6</td>\n",
       "      <td>Northwind Traders</td>\n",
       "      <td>19</td>\n",
       "      <td>0</td>\n",
       "      <td>6</td>\n",
       "      <td>49.6900</td>\n",
       "      <td>25</td>\n",
       "      <td>47</td>\n",
       "      <td>83</td>\n",
       "    </tr>\n",
       "    <tr>\n",
       "      <th>7</th>\n",
       "      <td>2009-01-03</td>\n",
       "      <td>1</td>\n",
       "      <td>Contoso Seattle No.1 Store</td>\n",
       "      <td>93</td>\n",
       "      <td>WWI Stereo Bluetooth Headphones E1000 Blue</td>\n",
       "      <td>Blue</td>\n",
       "      <td>12.2 x 8.8 x 5.5</td>\n",
       "      <td>Wide World Importers</td>\n",
       "      <td>21</td>\n",
       "      <td>6</td>\n",
       "      <td>12</td>\n",
       "      <td>34.3600</td>\n",
       "      <td>30</td>\n",
       "      <td>23</td>\n",
       "      <td>68</td>\n",
       "    </tr>\n",
       "    <tr>\n",
       "      <th>8</th>\n",
       "      <td>2009-01-03</td>\n",
       "      <td>1</td>\n",
       "      <td>Contoso Seattle No.1 Store</td>\n",
       "      <td>102</td>\n",
       "      <td>WWI Wireless Bluetooth Stereo Headphones M270 ...</td>\n",
       "      <td>Silver</td>\n",
       "      <td>7 x 5 x 1.5</td>\n",
       "      <td>Wide World Importers</td>\n",
       "      <td>19</td>\n",
       "      <td>0</td>\n",
       "      <td>18</td>\n",
       "      <td>52.8800</td>\n",
       "      <td>42</td>\n",
       "      <td>42</td>\n",
       "      <td>102</td>\n",
       "    </tr>\n",
       "    <tr>\n",
       "      <th>9</th>\n",
       "      <td>2009-01-03</td>\n",
       "      <td>1</td>\n",
       "      <td>Contoso Seattle No.1 Store</td>\n",
       "      <td>113</td>\n",
       "      <td>WWI Wireless Transmitter and Bluetooth Headpho...</td>\n",
       "      <td>White</td>\n",
       "      <td>5.3 x 2 x 7.4</td>\n",
       "      <td>Wide World Importers</td>\n",
       "      <td>22</td>\n",
       "      <td>3</td>\n",
       "      <td>12</td>\n",
       "      <td>82.8300</td>\n",
       "      <td>31</td>\n",
       "      <td>49</td>\n",
       "      <td>101</td>\n",
       "    </tr>\n",
       "  </tbody>\n",
       "</table>\n",
       "</div>"
      ],
      "text/plain": [
       "         Date StoreID                   StoreName ProductID  \\\n",
       "0  2009-01-03       1  Contoso Seattle No.1 Store         6   \n",
       "1  2009-01-03       1  Contoso Seattle No.1 Store        29   \n",
       "2  2009-01-03       1  Contoso Seattle No.1 Store        31   \n",
       "3  2009-01-03       1  Contoso Seattle No.1 Store        51   \n",
       "4  2009-01-03       1  Contoso Seattle No.1 Store        54   \n",
       "5  2009-01-03       1  Contoso Seattle No.1 Store        78   \n",
       "6  2009-01-03       1  Contoso Seattle No.1 Store        90   \n",
       "7  2009-01-03       1  Contoso Seattle No.1 Store        93   \n",
       "8  2009-01-03       1  Contoso Seattle No.1 Store       102   \n",
       "9  2009-01-03       1  Contoso Seattle No.1 Store       113   \n",
       "\n",
       "                                         ProductName   Color  \\\n",
       "0                   Contoso 2G MP3 Player E200 Black   Black   \n",
       "1          Contoso 32GB Video MP3 Player M3200 White   White   \n",
       "2         Contoso 32GB Video MP3 Player M3200 Orange  Orange   \n",
       "3                  WWI 2GB Pulse Smart pen M100 Blue    Blue   \n",
       "4               WWI 4GB Video Recording Pen X200 Red     Red   \n",
       "5  NT Wireless Bluetooth Stereo Headphones E302 S...  Silver   \n",
       "6  NT Wireless Transmitter and Bluetooth Headphon...  Silver   \n",
       "7         WWI Stereo Bluetooth Headphones E1000 Blue    Blue   \n",
       "8  WWI Wireless Bluetooth Stereo Headphones M270 ...  Silver   \n",
       "9  WWI Wireless Transmitter and Bluetooth Headpho...   White   \n",
       "\n",
       "                 Size          Manufacturer OnHandQuantity OnOrderQuantity  \\\n",
       "0     1.6 x 0.4 x 3.7          Contoso, Ltd             19               0   \n",
       "1       1 x 1.6 x 3.7          Contoso, Ltd             19               0   \n",
       "2     2.6 x 2.5 x 0.6          Contoso, Ltd             19               0   \n",
       "3       6 x 0.5 x 0.5  Wide World Importers             19               0   \n",
       "4  5.1  x 2.4  x 3.9   Wide World Importers             23               4   \n",
       "5      5.5x 6.5 x 2.5     Northwind Traders             19               0   \n",
       "6     4.5 x 8.4 x 2.6     Northwind Traders             19               0   \n",
       "7    12.2 x 8.8 x 5.5  Wide World Importers             21               6   \n",
       "8         7 x 5 x 1.5  Wide World Importers             19               0   \n",
       "9       5.3 x 2 x 7.4  Wide World Importers             22               3   \n",
       "\n",
       "  SafetyStockQuantity UnitCost DaysInStock MinDayInStock MaxDayInStock  \n",
       "0                  24  11.0000          60            43            76  \n",
       "1                  12  84.4900          58            11            97  \n",
       "2                   6  84.4900          63            17           111  \n",
       "3                   6  91.9500          79            12            86  \n",
       "4                  18  98.0700          30            30            71  \n",
       "5                   6  18.6500          70            29            60  \n",
       "6                   6  49.6900          25            47            83  \n",
       "7                  12  34.3600          30            23            68  \n",
       "8                  18  52.8800          42            42           102  \n",
       "9                  12  82.8300          31            49           101  "
      ]
     },
     "execution_count": 2,
     "metadata": {},
     "output_type": "execute_result"
    }
   ],
   "source": [
    "import pandas as pd\n",
    "data = pd.read_csv(\"RawData.txt\", sep='\\t')\n",
    "data.head(10)"
   ]
  },
  {
   "cell_type": "code",
   "execution_count": 3,
   "metadata": {},
   "outputs": [
    {
     "data": {
      "text/plain": [
       "(1563666, 15)"
      ]
     },
     "execution_count": 3,
     "metadata": {},
     "output_type": "execute_result"
    }
   ],
   "source": [
    "#### check the number of rows and columns\n",
    "data.shape"
   ]
  },
  {
   "cell_type": "code",
   "execution_count": 4,
   "metadata": {},
   "outputs": [
    {
     "name": "stdout",
     "output_type": "stream",
     "text": [
      "Index(['Date', 'StoreID', 'StoreName', 'ProductID', 'ProductName', 'Color',\n",
      "       'Size', 'Manufacturer', 'OnHandQuantity', 'OnOrderQuantity',\n",
      "       'SafetyStockQuantity', 'UnitCost', 'DaysInStock', 'MinDayInStock',\n",
      "       'MaxDayInStock'],\n",
      "      dtype='object')\n"
     ]
    }
   ],
   "source": [
    "## print all columns\n",
    "print(data.columns)"
   ]
  },
  {
   "cell_type": "markdown",
   "metadata": {},
   "source": [
    "## Data Cleaning\n",
    "### 3. Check & remove multiple header from dataframe"
   ]
  },
  {
   "cell_type": "code",
   "execution_count": 5,
   "metadata": {},
   "outputs": [
    {
     "name": "stdout",
     "output_type": "stream",
     "text": [
      "Date                   15769\n",
      "StoreID                15769\n",
      "StoreName              15769\n",
      "ProductID              15769\n",
      "ProductName            15769\n",
      "Color                  15769\n",
      "Size                   15769\n",
      "Manufacturer           15769\n",
      "OnHandQuantity         15769\n",
      "OnOrderQuantity        15769\n",
      "SafetyStockQuantity    15769\n",
      "UnitCost               15769\n",
      "DaysInStock            15769\n",
      "MinDayInStock          15769\n",
      "MaxDayInStock          15769\n",
      "dtype: int64\n"
     ]
    }
   ],
   "source": [
    "### Check duplicate hearder\n",
    "dup_header = data[data.Date.astype(str).str.contains('Date') == True]\n",
    "print(dup_header.count())\n",
    "### total 15769 headers are present"
   ]
  },
  {
   "cell_type": "code",
   "execution_count": 6,
   "metadata": {},
   "outputs": [
    {
     "name": "stdout",
     "output_type": "stream",
     "text": [
      "          Date  StoreID  StoreName  ProductID  ProductName  Color  Size  \\\n",
      "120      ﻿Date  StoreID  StoreName  ProductID  ProductName  Color  Size   \n",
      "257      ﻿Date  StoreID  StoreName  ProductID  ProductName  Color  Size   \n",
      "384      ﻿Date  StoreID  StoreName  ProductID  ProductName  Color  Size   \n",
      "504      ﻿Date  StoreID  StoreName  ProductID  ProductName  Color  Size   \n",
      "629      ﻿Date  StoreID  StoreName  ProductID  ProductName  Color  Size   \n",
      "...        ...      ...        ...        ...          ...    ...   ...   \n",
      "1561230  ﻿Date  StoreID  StoreName  ProductID  ProductName  Color  Size   \n",
      "1561866  ﻿Date  StoreID  StoreName  ProductID  ProductName  Color  Size   \n",
      "1562404  ﻿Date  StoreID  StoreName  ProductID  ProductName  Color  Size   \n",
      "1562839  ﻿Date  StoreID  StoreName  ProductID  ProductName  Color  Size   \n",
      "1563278  ﻿Date  StoreID  StoreName  ProductID  ProductName  Color  Size   \n",
      "\n",
      "         Manufacturer  OnHandQuantity  OnOrderQuantity  SafetyStockQuantity  \\\n",
      "120      Manufacturer  OnHandQuantity  OnOrderQuantity  SafetyStockQuantity   \n",
      "257      Manufacturer  OnHandQuantity  OnOrderQuantity  SafetyStockQuantity   \n",
      "384      Manufacturer  OnHandQuantity  OnOrderQuantity  SafetyStockQuantity   \n",
      "504      Manufacturer  OnHandQuantity  OnOrderQuantity  SafetyStockQuantity   \n",
      "629      Manufacturer  OnHandQuantity  OnOrderQuantity  SafetyStockQuantity   \n",
      "...               ...             ...              ...                  ...   \n",
      "1561230  Manufacturer  OnHandQuantity  OnOrderQuantity  SafetyStockQuantity   \n",
      "1561866  Manufacturer  OnHandQuantity  OnOrderQuantity  SafetyStockQuantity   \n",
      "1562404  Manufacturer  OnHandQuantity  OnOrderQuantity  SafetyStockQuantity   \n",
      "1562839  Manufacturer  OnHandQuantity  OnOrderQuantity  SafetyStockQuantity   \n",
      "1563278  Manufacturer  OnHandQuantity  OnOrderQuantity  SafetyStockQuantity   \n",
      "\n",
      "         UnitCost  DaysInStock  MinDayInStock  MaxDayInStock  \n",
      "120      UnitCost  DaysInStock  MinDayInStock  MaxDayInStock  \n",
      "257      UnitCost  DaysInStock  MinDayInStock  MaxDayInStock  \n",
      "384      UnitCost  DaysInStock  MinDayInStock  MaxDayInStock  \n",
      "504      UnitCost  DaysInStock  MinDayInStock  MaxDayInStock  \n",
      "629      UnitCost  DaysInStock  MinDayInStock  MaxDayInStock  \n",
      "...           ...          ...            ...            ...  \n",
      "1561230  UnitCost  DaysInStock  MinDayInStock  MaxDayInStock  \n",
      "1561866  UnitCost  DaysInStock  MinDayInStock  MaxDayInStock  \n",
      "1562404  UnitCost  DaysInStock  MinDayInStock  MaxDayInStock  \n",
      "1562839  UnitCost  DaysInStock  MinDayInStock  MaxDayInStock  \n",
      "1563278  UnitCost  DaysInStock  MinDayInStock  MaxDayInStock  \n",
      "\n",
      "[15769 rows x 15 columns]\n"
     ]
    }
   ],
   "source": [
    "#### print duplicate headers\n",
    "print(dup_header)"
   ]
  },
  {
   "cell_type": "code",
   "execution_count": 7,
   "metadata": {},
   "outputs": [
    {
     "data": {
      "text/plain": [
       "Date                   1547897\n",
       "StoreID                1547897\n",
       "StoreName              1547897\n",
       "ProductID              1547897\n",
       "ProductName            1547897\n",
       "Color                  1547897\n",
       "Size                   1197699\n",
       "Manufacturer           1547897\n",
       "OnHandQuantity         1547897\n",
       "OnOrderQuantity        1547897\n",
       "SafetyStockQuantity    1547897\n",
       "UnitCost               1547897\n",
       "DaysInStock            1547897\n",
       "MinDayInStock          1547897\n",
       "MaxDayInStock          1547897\n",
       "dtype: int64"
      ]
     },
     "execution_count": 7,
     "metadata": {},
     "output_type": "execute_result"
    }
   ],
   "source": [
    "#### Remove duplicate header \n",
    "data_no_dupheader = data[data.StoreID.astype(str).str.contains('StoreID') == False]\n",
    "data_no_dupheader.count()\n"
   ]
  },
  {
   "cell_type": "code",
   "execution_count": 8,
   "metadata": {},
   "outputs": [
    {
     "data": {
      "text/plain": [
       "(1547897, 15)"
      ]
     },
     "execution_count": 8,
     "metadata": {},
     "output_type": "execute_result"
    }
   ],
   "source": [
    "### out of (1563666) ,(15769) duplicate header removed, now total rows are 1547897\n",
    "data_no_dupheader.shape"
   ]
  },
  {
   "cell_type": "markdown",
   "metadata": {},
   "source": [
    "### 4. Filter unwanted columns.\n",
    "select those coloumns which are required for data analysis."
   ]
  },
  {
   "cell_type": "code",
   "execution_count": 9,
   "metadata": {},
   "outputs": [
    {
     "data": {
      "text/html": [
       "<div>\n",
       "<style scoped>\n",
       "    .dataframe tbody tr th:only-of-type {\n",
       "        vertical-align: middle;\n",
       "    }\n",
       "\n",
       "    .dataframe tbody tr th {\n",
       "        vertical-align: top;\n",
       "    }\n",
       "\n",
       "    .dataframe thead th {\n",
       "        text-align: right;\n",
       "    }\n",
       "</style>\n",
       "<table border=\"1\" class=\"dataframe\">\n",
       "  <thead>\n",
       "    <tr style=\"text-align: right;\">\n",
       "      <th></th>\n",
       "      <th>Date</th>\n",
       "      <th>StoreID</th>\n",
       "      <th>ProductID</th>\n",
       "      <th>OnHandQuantity</th>\n",
       "      <th>OnOrderQuantity</th>\n",
       "      <th>DaysInStock</th>\n",
       "      <th>MinDayInStock</th>\n",
       "      <th>MaxDayInStock</th>\n",
       "    </tr>\n",
       "  </thead>\n",
       "  <tbody>\n",
       "    <tr>\n",
       "      <th>0</th>\n",
       "      <td>2009-01-03</td>\n",
       "      <td>1</td>\n",
       "      <td>6</td>\n",
       "      <td>19</td>\n",
       "      <td>0</td>\n",
       "      <td>60</td>\n",
       "      <td>43</td>\n",
       "      <td>76</td>\n",
       "    </tr>\n",
       "    <tr>\n",
       "      <th>1</th>\n",
       "      <td>2009-01-03</td>\n",
       "      <td>1</td>\n",
       "      <td>29</td>\n",
       "      <td>19</td>\n",
       "      <td>0</td>\n",
       "      <td>58</td>\n",
       "      <td>11</td>\n",
       "      <td>97</td>\n",
       "    </tr>\n",
       "    <tr>\n",
       "      <th>2</th>\n",
       "      <td>2009-01-03</td>\n",
       "      <td>1</td>\n",
       "      <td>31</td>\n",
       "      <td>19</td>\n",
       "      <td>0</td>\n",
       "      <td>63</td>\n",
       "      <td>17</td>\n",
       "      <td>111</td>\n",
       "    </tr>\n",
       "    <tr>\n",
       "      <th>3</th>\n",
       "      <td>2009-01-03</td>\n",
       "      <td>1</td>\n",
       "      <td>51</td>\n",
       "      <td>19</td>\n",
       "      <td>0</td>\n",
       "      <td>79</td>\n",
       "      <td>12</td>\n",
       "      <td>86</td>\n",
       "    </tr>\n",
       "    <tr>\n",
       "      <th>4</th>\n",
       "      <td>2009-01-03</td>\n",
       "      <td>1</td>\n",
       "      <td>54</td>\n",
       "      <td>23</td>\n",
       "      <td>4</td>\n",
       "      <td>30</td>\n",
       "      <td>30</td>\n",
       "      <td>71</td>\n",
       "    </tr>\n",
       "  </tbody>\n",
       "</table>\n",
       "</div>"
      ],
      "text/plain": [
       "         Date StoreID ProductID OnHandQuantity OnOrderQuantity DaysInStock  \\\n",
       "0  2009-01-03       1         6             19               0          60   \n",
       "1  2009-01-03       1        29             19               0          58   \n",
       "2  2009-01-03       1        31             19               0          63   \n",
       "3  2009-01-03       1        51             19               0          79   \n",
       "4  2009-01-03       1        54             23               4          30   \n",
       "\n",
       "  MinDayInStock MaxDayInStock  \n",
       "0            43            76  \n",
       "1            11            97  \n",
       "2            17           111  \n",
       "3            12            86  \n",
       "4            30            71  "
      ]
     },
     "execution_count": 9,
     "metadata": {},
     "output_type": "execute_result"
    }
   ],
   "source": [
    "sample_data = data_no_dupheader[[\"Date\",\"StoreID\",\"ProductID\",'OnHandQuantity', 'OnOrderQuantity',\n",
    "        'DaysInStock', 'MinDayInStock',\n",
    "       'MaxDayInStock']]\n",
    "sample_data.head()"
   ]
  },
  {
   "cell_type": "code",
   "execution_count": 10,
   "metadata": {},
   "outputs": [
    {
     "data": {
      "text/plain": [
       "(1547897, 8)"
      ]
     },
     "execution_count": 10,
     "metadata": {},
     "output_type": "execute_result"
    }
   ],
   "source": [
    "### number of rows and columns\n",
    "sample_data.shape"
   ]
  },
  {
   "cell_type": "markdown",
   "metadata": {},
   "source": [
    "### 5. Check for Null value"
   ]
  },
  {
   "cell_type": "code",
   "execution_count": 11,
   "metadata": {},
   "outputs": [
    {
     "data": {
      "text/plain": [
       "False"
      ]
     },
     "execution_count": 11,
     "metadata": {},
     "output_type": "execute_result"
    }
   ],
   "source": [
    "### No Null value found as it returned \"False\"\n",
    "sample_data.isnull().values.any()"
   ]
  },
  {
   "cell_type": "code",
   "execution_count": 12,
   "metadata": {},
   "outputs": [
    {
     "data": {
      "text/plain": [
       "False"
      ]
     },
     "execution_count": 12,
     "metadata": {},
     "output_type": "execute_result"
    }
   ],
   "source": [
    "#### No Null value in any column\n",
    "sample_data.isnull().any().any()"
   ]
  },
  {
   "cell_type": "markdown",
   "metadata": {},
   "source": [
    "## Data Analysis\n",
    "### Q. 1. Which month most number of order taken place in 2009?"
   ]
  },
  {
   "cell_type": "code",
   "execution_count": 13,
   "metadata": {},
   "outputs": [
    {
     "data": {
      "text/html": [
       "<div>\n",
       "<style scoped>\n",
       "    .dataframe tbody tr th:only-of-type {\n",
       "        vertical-align: middle;\n",
       "    }\n",
       "\n",
       "    .dataframe tbody tr th {\n",
       "        vertical-align: top;\n",
       "    }\n",
       "\n",
       "    .dataframe thead th {\n",
       "        text-align: right;\n",
       "    }\n",
       "</style>\n",
       "<table border=\"1\" class=\"dataframe\">\n",
       "  <thead>\n",
       "    <tr style=\"text-align: right;\">\n",
       "      <th></th>\n",
       "      <th>Date</th>\n",
       "      <th>StoreID</th>\n",
       "      <th>ProductID</th>\n",
       "      <th>OnHandQuantity</th>\n",
       "      <th>OnOrderQuantity</th>\n",
       "      <th>DaysInStock</th>\n",
       "      <th>MinDayInStock</th>\n",
       "      <th>MaxDayInStock</th>\n",
       "    </tr>\n",
       "  </thead>\n",
       "  <tbody>\n",
       "    <tr>\n",
       "      <th>0</th>\n",
       "      <td>2009-01-03</td>\n",
       "      <td>1</td>\n",
       "      <td>6</td>\n",
       "      <td>19</td>\n",
       "      <td>0</td>\n",
       "      <td>60</td>\n",
       "      <td>43</td>\n",
       "      <td>76</td>\n",
       "    </tr>\n",
       "    <tr>\n",
       "      <th>1</th>\n",
       "      <td>2009-01-03</td>\n",
       "      <td>1</td>\n",
       "      <td>29</td>\n",
       "      <td>19</td>\n",
       "      <td>0</td>\n",
       "      <td>58</td>\n",
       "      <td>11</td>\n",
       "      <td>97</td>\n",
       "    </tr>\n",
       "    <tr>\n",
       "      <th>2</th>\n",
       "      <td>2009-01-03</td>\n",
       "      <td>1</td>\n",
       "      <td>31</td>\n",
       "      <td>19</td>\n",
       "      <td>0</td>\n",
       "      <td>63</td>\n",
       "      <td>17</td>\n",
       "      <td>111</td>\n",
       "    </tr>\n",
       "    <tr>\n",
       "      <th>3</th>\n",
       "      <td>2009-01-03</td>\n",
       "      <td>1</td>\n",
       "      <td>51</td>\n",
       "      <td>19</td>\n",
       "      <td>0</td>\n",
       "      <td>79</td>\n",
       "      <td>12</td>\n",
       "      <td>86</td>\n",
       "    </tr>\n",
       "    <tr>\n",
       "      <th>4</th>\n",
       "      <td>2009-01-03</td>\n",
       "      <td>1</td>\n",
       "      <td>54</td>\n",
       "      <td>23</td>\n",
       "      <td>4</td>\n",
       "      <td>30</td>\n",
       "      <td>30</td>\n",
       "      <td>71</td>\n",
       "    </tr>\n",
       "  </tbody>\n",
       "</table>\n",
       "</div>"
      ],
      "text/plain": [
       "         Date StoreID ProductID OnHandQuantity OnOrderQuantity DaysInStock  \\\n",
       "0  2009-01-03       1         6             19               0          60   \n",
       "1  2009-01-03       1        29             19               0          58   \n",
       "2  2009-01-03       1        31             19               0          63   \n",
       "3  2009-01-03       1        51             19               0          79   \n",
       "4  2009-01-03       1        54             23               4          30   \n",
       "\n",
       "  MinDayInStock MaxDayInStock  \n",
       "0            43            76  \n",
       "1            11            97  \n",
       "2            17           111  \n",
       "3            12            86  \n",
       "4            30            71  "
      ]
     },
     "execution_count": 13,
     "metadata": {},
     "output_type": "execute_result"
    }
   ],
   "source": [
    "sample_data.head()"
   ]
  },
  {
   "cell_type": "code",
   "execution_count": 26,
   "metadata": {},
   "outputs": [
    {
     "name": "stderr",
     "output_type": "stream",
     "text": [
      "<ipython-input-26-d208b979d6c2>:2: SettingWithCopyWarning: \n",
      "A value is trying to be set on a copy of a slice from a DataFrame.\n",
      "Try using .loc[row_indexer,col_indexer] = value instead\n",
      "\n",
      "See the caveats in the documentation: https://pandas.pydata.org/pandas-docs/stable/user_guide/indexing.html#returning-a-view-versus-a-copy\n",
      "  sample_data['Month'] = sample_data['Date'].str.split('-').str[1]\n"
     ]
    }
   ],
   "source": [
    "##3 Create Month column \n",
    "sample_data['Month'] = sample_data['Date'].str.split('-').str[1]\n",
    "sample_data.head()"
   ]
  },
  {
   "cell_type": "code",
   "execution_count": 27,
   "metadata": {},
   "outputs": [
    {
     "name": "stderr",
     "output_type": "stream",
     "text": [
      "<ipython-input-27-25a93a779ccb>:3: SettingWithCopyWarning: \n",
      "A value is trying to be set on a copy of a slice from a DataFrame.\n",
      "Try using .loc[row_indexer,col_indexer] = value instead\n",
      "\n",
      "See the caveats in the documentation: https://pandas.pydata.org/pandas-docs/stable/user_guide/indexing.html#returning-a-view-versus-a-copy\n",
      "  sample_data[\"Total Order\"]= sample_data[\"OnHandQuantity\"].astype('int32') + sample_data[\"OnOrderQuantity\"].astype('int32')\n"
     ]
    }
   ],
   "source": [
    "## Create \"Total Order\" column by adding onhand and onorder quantity.\n",
    "## First change datatype to int of both onhand and onorder columns. \n",
    "sample_data[\"Total Order\"]= sample_data[\"OnHandQuantity\"].astype('int32') + sample_data[\"OnOrderQuantity\"].astype('int32')\n",
    "sample_data.head()"
   ]
  },
  {
   "cell_type": "code",
   "execution_count": 16,
   "metadata": {},
   "outputs": [
    {
     "name": "stdout",
     "output_type": "stream",
     "text": [
      "Month\n",
      "01    4470030\n",
      "02    3719240\n",
      "03    2983220\n",
      "04    3022240\n",
      "05    4193585\n",
      "06    4000872\n",
      "07    3585750\n",
      "08    4554680\n",
      "09    4138339\n",
      "10    4258946\n",
      "11    4189559\n",
      "12    3778522\n",
      "Name: Total Order, dtype: int32\n"
     ]
    }
   ],
   "source": [
    "results = sample_data.groupby('Month').sum()\n",
    "print(results[\"Total Order\"])\n"
   ]
  },
  {
   "cell_type": "code",
   "execution_count": 17,
   "metadata": {},
   "outputs": [
    {
     "data": {
      "image/png": "[encoded data removed]",
      "text/plain": [
       "<Figure size 432x288 with 1 Axes>"
      ]
     },
     "metadata": {
      "needs_background": "light"
     },
     "output_type": "display_data"
    }
   ],
   "source": [
    "import matplotlib.pyplot as plt\n",
    "\n",
    "months = range(1,13)\n",
    "\n",
    "plt.plot(months,results['Total Order'], color = 'r')\n",
    "plt.xticks(months)\n",
    "\n",
    "plt.xlabel('Months')\n",
    "plt.ylabel(\"Total Number of Orders in millions\")\n",
    "plt.title(\" Number of order taken per month \")\n",
    "plt.show()\n",
    "\n"
   ]
  },
  {
   "cell_type": "markdown",
   "metadata": {},
   "source": [
    "### Ans 1 - By observing above graph in January and August months most number of orders have done."
   ]
  },
  {
   "cell_type": "markdown",
   "metadata": {},
   "source": [
    "### Q.2 . Which top 10 products sold most and least by both onhand & onorder."
   ]
  },
  {
   "cell_type": "code",
   "execution_count": 18,
   "metadata": {},
   "outputs": [
    {
     "data": {
      "text/html": [
       "<div>\n",
       "<style scoped>\n",
       "    .dataframe tbody tr th:only-of-type {\n",
       "        vertical-align: middle;\n",
       "    }\n",
       "\n",
       "    .dataframe tbody tr th {\n",
       "        vertical-align: top;\n",
       "    }\n",
       "\n",
       "    .dataframe thead th {\n",
       "        text-align: right;\n",
       "    }\n",
       "</style>\n",
       "<table border=\"1\" class=\"dataframe\">\n",
       "  <thead>\n",
       "    <tr style=\"text-align: right;\">\n",
       "      <th></th>\n",
       "      <th>Date</th>\n",
       "      <th>StoreID</th>\n",
       "      <th>ProductID</th>\n",
       "      <th>ProductName</th>\n",
       "      <th>OnHandQuantity</th>\n",
       "      <th>OnOrderQuantity</th>\n",
       "    </tr>\n",
       "  </thead>\n",
       "  <tbody>\n",
       "    <tr>\n",
       "      <th>0</th>\n",
       "      <td>2009-01-03</td>\n",
       "      <td>1</td>\n",
       "      <td>6</td>\n",
       "      <td>Contoso 2G MP3 Player E200 Black</td>\n",
       "      <td>19</td>\n",
       "      <td>0</td>\n",
       "    </tr>\n",
       "    <tr>\n",
       "      <th>1</th>\n",
       "      <td>2009-01-03</td>\n",
       "      <td>1</td>\n",
       "      <td>29</td>\n",
       "      <td>Contoso 32GB Video MP3 Player M3200 White</td>\n",
       "      <td>19</td>\n",
       "      <td>0</td>\n",
       "    </tr>\n",
       "    <tr>\n",
       "      <th>2</th>\n",
       "      <td>2009-01-03</td>\n",
       "      <td>1</td>\n",
       "      <td>31</td>\n",
       "      <td>Contoso 32GB Video MP3 Player M3200 Orange</td>\n",
       "      <td>19</td>\n",
       "      <td>0</td>\n",
       "    </tr>\n",
       "    <tr>\n",
       "      <th>3</th>\n",
       "      <td>2009-01-03</td>\n",
       "      <td>1</td>\n",
       "      <td>51</td>\n",
       "      <td>WWI 2GB Pulse Smart pen M100 Blue</td>\n",
       "      <td>19</td>\n",
       "      <td>0</td>\n",
       "    </tr>\n",
       "    <tr>\n",
       "      <th>4</th>\n",
       "      <td>2009-01-03</td>\n",
       "      <td>1</td>\n",
       "      <td>54</td>\n",
       "      <td>WWI 4GB Video Recording Pen X200 Red</td>\n",
       "      <td>23</td>\n",
       "      <td>4</td>\n",
       "    </tr>\n",
       "  </tbody>\n",
       "</table>\n",
       "</div>"
      ],
      "text/plain": [
       "         Date StoreID ProductID                                 ProductName  \\\n",
       "0  2009-01-03       1         6            Contoso 2G MP3 Player E200 Black   \n",
       "1  2009-01-03       1        29   Contoso 32GB Video MP3 Player M3200 White   \n",
       "2  2009-01-03       1        31  Contoso 32GB Video MP3 Player M3200 Orange   \n",
       "3  2009-01-03       1        51           WWI 2GB Pulse Smart pen M100 Blue   \n",
       "4  2009-01-03       1        54        WWI 4GB Video Recording Pen X200 Red   \n",
       "\n",
       "  OnHandQuantity OnOrderQuantity  \n",
       "0             19               0  \n",
       "1             19               0  \n",
       "2             19               0  \n",
       "3             19               0  \n",
       "4             23               4  "
      ]
     },
     "execution_count": 18,
     "metadata": {},
     "output_type": "execute_result"
    }
   ],
   "source": [
    "## create new sample dataframe as per required columns\n",
    "sample_data2 = data_no_dupheader[[\"Date\",\"StoreID\",\"ProductID\",\"ProductName\",'OnHandQuantity', 'OnOrderQuantity',]]\n",
    "sample_data2.head()"
   ]
  },
  {
   "cell_type": "code",
   "execution_count": 19,
   "metadata": {},
   "outputs": [
    {
     "name": "stdout",
     "output_type": "stream",
     "text": [
      "<class 'pandas.core.frame.DataFrame'>\n",
      "Int64Index: 1547897 entries, 0 to 1563665\n",
      "Data columns (total 6 columns):\n",
      " #   Column           Non-Null Count    Dtype \n",
      "---  ------           --------------    ----- \n",
      " 0   Date             1547897 non-null  object\n",
      " 1   StoreID          1547897 non-null  object\n",
      " 2   ProductID        1547897 non-null  object\n",
      " 3   ProductName      1547897 non-null  object\n",
      " 4   OnHandQuantity   1547897 non-null  object\n",
      " 5   OnOrderQuantity  1547897 non-null  object\n",
      "dtypes: object(6)\n",
      "memory usage: 47.2+ MB\n"
     ]
    }
   ],
   "source": [
    "## checking colummns datatype\n",
    "sample_data2.info()"
   ]
  },
  {
   "cell_type": "code",
   "execution_count": 20,
   "metadata": {},
   "outputs": [
    {
     "name": "stderr",
     "output_type": "stream",
     "text": [
      "<ipython-input-20-6e35b806807f>:2: SettingWithCopyWarning: \n",
      "A value is trying to be set on a copy of a slice from a DataFrame.\n",
      "Try using .loc[row_indexer,col_indexer] = value instead\n",
      "\n",
      "See the caveats in the documentation: https://pandas.pydata.org/pandas-docs/stable/user_guide/indexing.html#returning-a-view-versus-a-copy\n",
      "  sample_data2[\"OnHandQuantity\"] = sample_data2[\"OnHandQuantity\"].astype('int32')\n",
      "<ipython-input-20-6e35b806807f>:3: SettingWithCopyWarning: \n",
      "A value is trying to be set on a copy of a slice from a DataFrame.\n",
      "Try using .loc[row_indexer,col_indexer] = value instead\n",
      "\n",
      "See the caveats in the documentation: https://pandas.pydata.org/pandas-docs/stable/user_guide/indexing.html#returning-a-view-versus-a-copy\n",
      "  sample_data2[\"OnOrderQuantity\"] = sample_data2[\"OnOrderQuantity\"].astype('int32')\n"
     ]
    },
    {
     "name": "stdout",
     "output_type": "stream",
     "text": [
      "<class 'pandas.core.frame.DataFrame'>\n",
      "Int64Index: 1547897 entries, 0 to 1563665\n",
      "Data columns (total 6 columns):\n",
      " #   Column           Non-Null Count    Dtype \n",
      "---  ------           --------------    ----- \n",
      " 0   Date             1547897 non-null  object\n",
      " 1   StoreID          1547897 non-null  object\n",
      " 2   ProductID        1547897 non-null  object\n",
      " 3   ProductName      1547897 non-null  object\n",
      " 4   OnHandQuantity   1547897 non-null  int32 \n",
      " 5   OnOrderQuantity  1547897 non-null  int32 \n",
      "dtypes: int32(2), object(4)\n",
      "memory usage: 47.2+ MB\n"
     ]
    }
   ],
   "source": [
    "# First change datatype of OnHandQuantity  and OnOrderQuantity  to int\n",
    "sample_data2[\"OnHandQuantity\"] = sample_data2[\"OnHandQuantity\"].astype('int32')\n",
    "sample_data2[\"OnOrderQuantity\"] = sample_data2[\"OnOrderQuantity\"].astype('int32')\n",
    "sample_data2.info()\n"
   ]
  },
  {
   "cell_type": "markdown",
   "metadata": {},
   "source": [
    "### Ans 2.a - Top 10 product which sold most by OnHand & OnOrder"
   ]
  },
  {
   "cell_type": "code",
   "execution_count": 21,
   "metadata": {},
   "outputs": [
    {
     "data": {
      "text/html": [
       "<div>\n",
       "<style scoped>\n",
       "    .dataframe tbody tr th:only-of-type {\n",
       "        vertical-align: middle;\n",
       "    }\n",
       "\n",
       "    .dataframe tbody tr th {\n",
       "        vertical-align: top;\n",
       "    }\n",
       "\n",
       "    .dataframe thead th {\n",
       "        text-align: right;\n",
       "    }\n",
       "</style>\n",
       "<table border=\"1\" class=\"dataframe\">\n",
       "  <thead>\n",
       "    <tr style=\"text-align: right;\">\n",
       "      <th></th>\n",
       "      <th>ProductName</th>\n",
       "      <th>OnHandQuantity</th>\n",
       "      <th>OnOrderQuantity</th>\n",
       "    </tr>\n",
       "  </thead>\n",
       "  <tbody>\n",
       "    <tr>\n",
       "      <th>1291</th>\n",
       "      <td>Headphone Adapter for Contoso Phone E130 Black</td>\n",
       "      <td>363362</td>\n",
       "      <td>56430</td>\n",
       "    </tr>\n",
       "    <tr>\n",
       "      <th>1292</th>\n",
       "      <td>Headphone Adapter for Contoso Phone E130 Silver</td>\n",
       "      <td>336906</td>\n",
       "      <td>55675</td>\n",
       "    </tr>\n",
       "    <tr>\n",
       "      <th>1990</th>\n",
       "      <td>Reusable Phone Screen Protector E120</td>\n",
       "      <td>333082</td>\n",
       "      <td>50626</td>\n",
       "    </tr>\n",
       "    <tr>\n",
       "      <th>769</th>\n",
       "      <td>Contoso Original K1m Li-Ion Standard Battery E...</td>\n",
       "      <td>312008</td>\n",
       "      <td>50754</td>\n",
       "    </tr>\n",
       "    <tr>\n",
       "      <th>836</th>\n",
       "      <td>Contoso Rubberized Skin BlackBerry E100 White</td>\n",
       "      <td>309649</td>\n",
       "      <td>46353</td>\n",
       "    </tr>\n",
       "    <tr>\n",
       "      <th>672</th>\n",
       "      <td>Contoso In-Line Coupler E180 Silver</td>\n",
       "      <td>305359</td>\n",
       "      <td>54270</td>\n",
       "    </tr>\n",
       "    <tr>\n",
       "      <th>671</th>\n",
       "      <td>Contoso In-Line Coupler E180 Black</td>\n",
       "      <td>304232</td>\n",
       "      <td>44399</td>\n",
       "    </tr>\n",
       "    <tr>\n",
       "      <th>321</th>\n",
       "      <td>Cigarette Lighter Adapter for Contoso Phones E...</td>\n",
       "      <td>299270</td>\n",
       "      <td>48959</td>\n",
       "    </tr>\n",
       "    <tr>\n",
       "      <th>770</th>\n",
       "      <td>Contoso Original K1m Li-Ion Standard Battery E...</td>\n",
       "      <td>297231</td>\n",
       "      <td>43307</td>\n",
       "    </tr>\n",
       "    <tr>\n",
       "      <th>1293</th>\n",
       "      <td>Headphone Adapter for Contoso Phone E130 White</td>\n",
       "      <td>297051</td>\n",
       "      <td>41450</td>\n",
       "    </tr>\n",
       "  </tbody>\n",
       "</table>\n",
       "</div>"
      ],
      "text/plain": [
       "                                            ProductName  OnHandQuantity  \\\n",
       "1291     Headphone Adapter for Contoso Phone E130 Black          363362   \n",
       "1292    Headphone Adapter for Contoso Phone E130 Silver          336906   \n",
       "1990               Reusable Phone Screen Protector E120          333082   \n",
       "769   Contoso Original K1m Li-Ion Standard Battery E...          312008   \n",
       "836       Contoso Rubberized Skin BlackBerry E100 White          309649   \n",
       "672                 Contoso In-Line Coupler E180 Silver          305359   \n",
       "671                  Contoso In-Line Coupler E180 Black          304232   \n",
       "321   Cigarette Lighter Adapter for Contoso Phones E...          299270   \n",
       "770   Contoso Original K1m Li-Ion Standard Battery E...          297231   \n",
       "1293     Headphone Adapter for Contoso Phone E130 White          297051   \n",
       "\n",
       "      OnOrderQuantity  \n",
       "1291            56430  \n",
       "1292            55675  \n",
       "1990            50626  \n",
       "769             50754  \n",
       "836             46353  \n",
       "672             54270  \n",
       "671             44399  \n",
       "321             48959  \n",
       "770             43307  \n",
       "1293            41450  "
      ]
     },
     "execution_count": 21,
     "metadata": {},
     "output_type": "execute_result"
    }
   ],
   "source": [
    "# print top 10 productid sold most by OnHand.\n",
    "result2 = sample_data2.groupby('ProductName', as_index=False).sum()\n",
    "max_OnHand = result2.nlargest(10,\"OnHandQuantity\")\n",
    "max_OnHand"
   ]
  },
  {
   "cell_type": "code",
   "execution_count": 22,
   "metadata": {},
   "outputs": [
    {
     "data": {
      "image/png": "[encoded data removed]",
      "text/plain": [
       "<Figure size 432x288 with 1 Axes>"
      ]
     },
     "metadata": {
      "needs_background": "light"
     },
     "output_type": "display_data"
    }
   ],
   "source": [
    "import numpy as np\n",
    "import matplotlib\n",
    "import matplotlib.pyplot as plt\n",
    "fig, ax = plt.subplots()\n",
    "\n",
    "\n",
    "x = max_OnHand[\"ProductName\"]\n",
    "z = max_OnHand[\"OnOrderQuantity\"]\n",
    "y = max_OnHand[\"OnHandQuantity\"]\n",
    "\n",
    "X = np.arange(len(max_OnHand[\"ProductName\"]))\n",
    "width = 0.4\n",
    "\n",
    "b1 = ax.bar(X - width/2 , y, color = 'g', width = .5 , label = 'OnHand' )\n",
    "b2 = ax.bar(X + width/2 , z, color = 'r', width = .5, label = 'OnOrder')\n",
    "ax.set_ylabel(\"Total number of Orders\", color = 'g')\n",
    "ax.set_xlabel(\"Products\", color = 'r')\n",
    "ax.set_xticks(X)\n",
    "ax.set_title(\" 10 product which sold most by onHand & onOrder\")\n",
    "ax.set_xticklabels(x, rotation = 'vertical', size=8)\n",
    "ax.legend()\n",
    "\n",
    "plt.show()"
   ]
  },
  {
   "cell_type": "markdown",
   "metadata": {},
   "source": [
    "### Ans 2.b - Top 10 product which sold least by OnHand & OnOrder "
   ]
  },
  {
   "cell_type": "code",
   "execution_count": 23,
   "metadata": {},
   "outputs": [
    {
     "data": {
      "text/html": [
       "<div>\n",
       "<style scoped>\n",
       "    .dataframe tbody tr th:only-of-type {\n",
       "        vertical-align: middle;\n",
       "    }\n",
       "\n",
       "    .dataframe tbody tr th {\n",
       "        vertical-align: top;\n",
       "    }\n",
       "\n",
       "    .dataframe thead th {\n",
       "        text-align: right;\n",
       "    }\n",
       "</style>\n",
       "<table border=\"1\" class=\"dataframe\">\n",
       "  <thead>\n",
       "    <tr style=\"text-align: right;\">\n",
       "      <th></th>\n",
       "      <th>ProductName</th>\n",
       "      <th>OnHandQuantity</th>\n",
       "      <th>OnOrderQuantity</th>\n",
       "    </tr>\n",
       "  </thead>\n",
       "  <tbody>\n",
       "    <tr>\n",
       "      <th>1140</th>\n",
       "      <td>Fabrikam Laptop8.9W E0880 Silver</td>\n",
       "      <td>1182</td>\n",
       "      <td>9</td>\n",
       "    </tr>\n",
       "    <tr>\n",
       "      <th>1121</th>\n",
       "      <td>Fabrikam Laptop10.1 M0101 Silver</td>\n",
       "      <td>1405</td>\n",
       "      <td>12</td>\n",
       "    </tr>\n",
       "    <tr>\n",
       "      <th>1888</th>\n",
       "      <td>Proseware Laptop15.4W M518 Black</td>\n",
       "      <td>1125</td>\n",
       "      <td>17</td>\n",
       "    </tr>\n",
       "    <tr>\n",
       "      <th>298</th>\n",
       "      <td>Adventure Works Laptop16 M1600 Black</td>\n",
       "      <td>1398</td>\n",
       "      <td>20</td>\n",
       "    </tr>\n",
       "    <tr>\n",
       "      <th>968</th>\n",
       "      <td>Contoso Washer &amp; Dryer 27in L270 Blue</td>\n",
       "      <td>2736</td>\n",
       "      <td>179</td>\n",
       "    </tr>\n",
       "    <tr>\n",
       "      <th>971</th>\n",
       "      <td>Contoso Washer &amp; Dryer 27in L270 Red</td>\n",
       "      <td>3125</td>\n",
       "      <td>182</td>\n",
       "    </tr>\n",
       "    <tr>\n",
       "      <th>1554</th>\n",
       "      <td>Litware Washer &amp; Dryer 27in L420 Blue</td>\n",
       "      <td>2988</td>\n",
       "      <td>187</td>\n",
       "    </tr>\n",
       "    <tr>\n",
       "      <th>973</th>\n",
       "      <td>Contoso Washer &amp; Dryer 27in L270 White</td>\n",
       "      <td>2910</td>\n",
       "      <td>200</td>\n",
       "    </tr>\n",
       "    <tr>\n",
       "      <th>1557</th>\n",
       "      <td>Litware Washer &amp; Dryer 27in L420 White</td>\n",
       "      <td>3082</td>\n",
       "      <td>207</td>\n",
       "    </tr>\n",
       "    <tr>\n",
       "      <th>1555</th>\n",
       "      <td>Litware Washer &amp; Dryer 27in L420 Green</td>\n",
       "      <td>3339</td>\n",
       "      <td>211</td>\n",
       "    </tr>\n",
       "  </tbody>\n",
       "</table>\n",
       "</div>"
      ],
      "text/plain": [
       "                                 ProductName  OnHandQuantity  OnOrderQuantity\n",
       "1140        Fabrikam Laptop8.9W E0880 Silver            1182                9\n",
       "1121        Fabrikam Laptop10.1 M0101 Silver            1405               12\n",
       "1888        Proseware Laptop15.4W M518 Black            1125               17\n",
       "298     Adventure Works Laptop16 M1600 Black            1398               20\n",
       "968    Contoso Washer & Dryer 27in L270 Blue            2736              179\n",
       "971     Contoso Washer & Dryer 27in L270 Red            3125              182\n",
       "1554   Litware Washer & Dryer 27in L420 Blue            2988              187\n",
       "973   Contoso Washer & Dryer 27in L270 White            2910              200\n",
       "1557  Litware Washer & Dryer 27in L420 White            3082              207\n",
       "1555  Litware Washer & Dryer 27in L420 Green            3339              211"
      ]
     },
     "execution_count": 23,
     "metadata": {},
     "output_type": "execute_result"
    }
   ],
   "source": [
    "# print top 10 productid sold least by onOrder.\n",
    "result2 = sample_data2.groupby('ProductName', as_index=False).sum()\n",
    "min_OnOrder = result2.nsmallest(10,\"OnOrderQuantity\")\n",
    "min_OnOrder\n"
   ]
  },
  {
   "cell_type": "code",
   "execution_count": 24,
   "metadata": {},
   "outputs": [
    {
     "data": {
      "image/png": "[encoded data removed]",
      "text/plain": [
       "<Figure size 432x288 with 1 Axes>"
      ]
     },
     "metadata": {
      "needs_background": "light"
     },
     "output_type": "display_data"
    }
   ],
   "source": [
    "import numpy as np\n",
    "import matplotlib\n",
    "import matplotlib.pyplot as plt\n",
    "fig, ax = plt.subplots()\n",
    "\n",
    "\n",
    "x = min_OnOrder[\"ProductName\"]\n",
    "z = min_OnOrder[\"OnOrderQuantity\"]\n",
    "y = min_OnOrder[\"OnHandQuantity\"]\n",
    "\n",
    "X = np.arange(len(min_OnOrder[\"ProductName\"]))\n",
    "width = 0.4\n",
    "\n",
    "b1 = ax.bar(X - width/2 , y, color = 'y', width = .5 , label = 'OnHand' )\n",
    "b2 = ax.bar(X + width/2 , z, color = 'r', width = .5, label = 'OnOrder')\n",
    "ax.set_ylabel(\"Total number of Orders\", color = 'g')\n",
    "ax.set_xlabel(\"Products\", color = 'r')\n",
    "ax.set_xticks(X)\n",
    "ax.set_title(\" 10 product which sold least by onHand & onOrder\")\n",
    "ax.set_xticklabels(x, rotation = 'vertical', size=8)\n",
    "ax.legend()\n",
    "plt.show()"
   ]
  },
  {
   "cell_type": "markdown",
   "metadata": {},
   "source": [
    "### Q.3. In 2009 which storeId did highest sales."
   ]
  },
  {
   "cell_type": "code",
   "execution_count": 28,
   "metadata": {},
   "outputs": [
    {
     "data": {
      "text/html": [
       "<div>\n",
       "<style scoped>\n",
       "    .dataframe tbody tr th:only-of-type {\n",
       "        vertical-align: middle;\n",
       "    }\n",
       "\n",
       "    .dataframe tbody tr th {\n",
       "        vertical-align: top;\n",
       "    }\n",
       "\n",
       "    .dataframe thead th {\n",
       "        text-align: right;\n",
       "    }\n",
       "</style>\n",
       "<table border=\"1\" class=\"dataframe\">\n",
       "  <thead>\n",
       "    <tr style=\"text-align: right;\">\n",
       "      <th></th>\n",
       "      <th>Date</th>\n",
       "      <th>StoreID</th>\n",
       "      <th>ProductID</th>\n",
       "      <th>ProductName</th>\n",
       "      <th>OnHandQuantity</th>\n",
       "      <th>OnOrderQuantity</th>\n",
       "      <th>Total Order</th>\n",
       "      <th>UnitCost</th>\n",
       "    </tr>\n",
       "  </thead>\n",
       "  <tbody>\n",
       "    <tr>\n",
       "      <th>0</th>\n",
       "      <td>2009-01-03</td>\n",
       "      <td>1</td>\n",
       "      <td>6</td>\n",
       "      <td>Contoso 2G MP3 Player E200 Black</td>\n",
       "      <td>19</td>\n",
       "      <td>0</td>\n",
       "      <td>19</td>\n",
       "      <td>11.0000</td>\n",
       "    </tr>\n",
       "    <tr>\n",
       "      <th>1</th>\n",
       "      <td>2009-01-03</td>\n",
       "      <td>1</td>\n",
       "      <td>29</td>\n",
       "      <td>Contoso 32GB Video MP3 Player M3200 White</td>\n",
       "      <td>19</td>\n",
       "      <td>0</td>\n",
       "      <td>19</td>\n",
       "      <td>84.4900</td>\n",
       "    </tr>\n",
       "    <tr>\n",
       "      <th>2</th>\n",
       "      <td>2009-01-03</td>\n",
       "      <td>1</td>\n",
       "      <td>31</td>\n",
       "      <td>Contoso 32GB Video MP3 Player M3200 Orange</td>\n",
       "      <td>19</td>\n",
       "      <td>0</td>\n",
       "      <td>19</td>\n",
       "      <td>84.4900</td>\n",
       "    </tr>\n",
       "    <tr>\n",
       "      <th>3</th>\n",
       "      <td>2009-01-03</td>\n",
       "      <td>1</td>\n",
       "      <td>51</td>\n",
       "      <td>WWI 2GB Pulse Smart pen M100 Blue</td>\n",
       "      <td>19</td>\n",
       "      <td>0</td>\n",
       "      <td>19</td>\n",
       "      <td>91.9500</td>\n",
       "    </tr>\n",
       "    <tr>\n",
       "      <th>4</th>\n",
       "      <td>2009-01-03</td>\n",
       "      <td>1</td>\n",
       "      <td>54</td>\n",
       "      <td>WWI 4GB Video Recording Pen X200 Red</td>\n",
       "      <td>23</td>\n",
       "      <td>4</td>\n",
       "      <td>27</td>\n",
       "      <td>98.0700</td>\n",
       "    </tr>\n",
       "  </tbody>\n",
       "</table>\n",
       "</div>"
      ],
      "text/plain": [
       "         Date StoreID ProductID                                 ProductName  \\\n",
       "0  2009-01-03       1         6            Contoso 2G MP3 Player E200 Black   \n",
       "1  2009-01-03       1        29   Contoso 32GB Video MP3 Player M3200 White   \n",
       "2  2009-01-03       1        31  Contoso 32GB Video MP3 Player M3200 Orange   \n",
       "3  2009-01-03       1        51           WWI 2GB Pulse Smart pen M100 Blue   \n",
       "4  2009-01-03       1        54        WWI 4GB Video Recording Pen X200 Red   \n",
       "\n",
       "   OnHandQuantity  OnOrderQuantity  Total Order UnitCost  \n",
       "0              19                0           19  11.0000  \n",
       "1              19                0           19  84.4900  \n",
       "2              19                0           19  84.4900  \n",
       "3              19                0           19  91.9500  \n",
       "4              23                4           27  98.0700  "
      ]
     },
     "execution_count": 28,
     "metadata": {},
     "output_type": "execute_result"
    }
   ],
   "source": [
    "##3 create new data sample which includes Unitcost and total order to find out total sale.\n",
    "cost = [data_no_dupheader['UnitCost']]\n",
    "totalOrder = [sample_data[\"Total Order\"]]\n",
    "sample_data3 = sample_data2.join(totalOrder).join(cost)\n",
    "sample_data3.head()"
   ]
  },
  {
   "cell_type": "code",
   "execution_count": 29,
   "metadata": {},
   "outputs": [
    {
     "name": "stdout",
     "output_type": "stream",
     "text": [
      "<class 'pandas.core.frame.DataFrame'>\n",
      "Int64Index: 1547897 entries, 0 to 1563665\n",
      "Data columns (total 8 columns):\n",
      " #   Column           Non-Null Count    Dtype  \n",
      "---  ------           --------------    -----  \n",
      " 0   Date             1547897 non-null  object \n",
      " 1   StoreID          1547897 non-null  object \n",
      " 2   ProductID        1547897 non-null  object \n",
      " 3   ProductName      1547897 non-null  object \n",
      " 4   OnHandQuantity   1547897 non-null  int32  \n",
      " 5   OnOrderQuantity  1547897 non-null  int32  \n",
      " 6   Total Order      1547897 non-null  int32  \n",
      " 7   UnitCost         1547897 non-null  float64\n",
      "dtypes: float64(1), int32(3), object(4)\n",
      "memory usage: 97.0+ MB\n"
     ]
    }
   ],
   "source": [
    "## change datatype of unitcost column for further calculation\n",
    "sample_data3[\"UnitCost\"] = sample_data3[\"UnitCost\"].astype(\"float\")\n",
    "sample_data3.info()"
   ]
  },
  {
   "cell_type": "code",
   "execution_count": 30,
   "metadata": {},
   "outputs": [
    {
     "data": {
      "text/html": [
       "<div>\n",
       "<style scoped>\n",
       "    .dataframe tbody tr th:only-of-type {\n",
       "        vertical-align: middle;\n",
       "    }\n",
       "\n",
       "    .dataframe tbody tr th {\n",
       "        vertical-align: top;\n",
       "    }\n",
       "\n",
       "    .dataframe thead th {\n",
       "        text-align: right;\n",
       "    }\n",
       "</style>\n",
       "<table border=\"1\" class=\"dataframe\">\n",
       "  <thead>\n",
       "    <tr style=\"text-align: right;\">\n",
       "      <th></th>\n",
       "      <th>Date</th>\n",
       "      <th>StoreID</th>\n",
       "      <th>ProductID</th>\n",
       "      <th>ProductName</th>\n",
       "      <th>OnHandQuantity</th>\n",
       "      <th>OnOrderQuantity</th>\n",
       "      <th>Total Order</th>\n",
       "      <th>UnitCost</th>\n",
       "      <th>Sales</th>\n",
       "    </tr>\n",
       "  </thead>\n",
       "  <tbody>\n",
       "    <tr>\n",
       "      <th>0</th>\n",
       "      <td>2009-01-03</td>\n",
       "      <td>1</td>\n",
       "      <td>6</td>\n",
       "      <td>Contoso 2G MP3 Player E200 Black</td>\n",
       "      <td>19</td>\n",
       "      <td>0</td>\n",
       "      <td>19</td>\n",
       "      <td>11.00</td>\n",
       "      <td>209.00</td>\n",
       "    </tr>\n",
       "    <tr>\n",
       "      <th>1</th>\n",
       "      <td>2009-01-03</td>\n",
       "      <td>1</td>\n",
       "      <td>29</td>\n",
       "      <td>Contoso 32GB Video MP3 Player M3200 White</td>\n",
       "      <td>19</td>\n",
       "      <td>0</td>\n",
       "      <td>19</td>\n",
       "      <td>84.49</td>\n",
       "      <td>1605.31</td>\n",
       "    </tr>\n",
       "    <tr>\n",
       "      <th>2</th>\n",
       "      <td>2009-01-03</td>\n",
       "      <td>1</td>\n",
       "      <td>31</td>\n",
       "      <td>Contoso 32GB Video MP3 Player M3200 Orange</td>\n",
       "      <td>19</td>\n",
       "      <td>0</td>\n",
       "      <td>19</td>\n",
       "      <td>84.49</td>\n",
       "      <td>1605.31</td>\n",
       "    </tr>\n",
       "    <tr>\n",
       "      <th>3</th>\n",
       "      <td>2009-01-03</td>\n",
       "      <td>1</td>\n",
       "      <td>51</td>\n",
       "      <td>WWI 2GB Pulse Smart pen M100 Blue</td>\n",
       "      <td>19</td>\n",
       "      <td>0</td>\n",
       "      <td>19</td>\n",
       "      <td>91.95</td>\n",
       "      <td>1747.05</td>\n",
       "    </tr>\n",
       "    <tr>\n",
       "      <th>4</th>\n",
       "      <td>2009-01-03</td>\n",
       "      <td>1</td>\n",
       "      <td>54</td>\n",
       "      <td>WWI 4GB Video Recording Pen X200 Red</td>\n",
       "      <td>23</td>\n",
       "      <td>4</td>\n",
       "      <td>27</td>\n",
       "      <td>98.07</td>\n",
       "      <td>2647.89</td>\n",
       "    </tr>\n",
       "  </tbody>\n",
       "</table>\n",
       "</div>"
      ],
      "text/plain": [
       "         Date StoreID ProductID                                 ProductName  \\\n",
       "0  2009-01-03       1         6            Contoso 2G MP3 Player E200 Black   \n",
       "1  2009-01-03       1        29   Contoso 32GB Video MP3 Player M3200 White   \n",
       "2  2009-01-03       1        31  Contoso 32GB Video MP3 Player M3200 Orange   \n",
       "3  2009-01-03       1        51           WWI 2GB Pulse Smart pen M100 Blue   \n",
       "4  2009-01-03       1        54        WWI 4GB Video Recording Pen X200 Red   \n",
       "\n",
       "   OnHandQuantity  OnOrderQuantity  Total Order  UnitCost    Sales  \n",
       "0              19                0           19     11.00   209.00  \n",
       "1              19                0           19     84.49  1605.31  \n",
       "2              19                0           19     84.49  1605.31  \n",
       "3              19                0           19     91.95  1747.05  \n",
       "4              23                4           27     98.07  2647.89  "
      ]
     },
     "execution_count": 30,
     "metadata": {},
     "output_type": "execute_result"
    }
   ],
   "source": [
    "### Create Sales column\n",
    "sample_data3[\"Sales\"] = sample_data3[\"Total Order\"] * sample_data3[\"UnitCost\"]\n",
    "sample_data3.head()"
   ]
  },
  {
   "cell_type": "code",
   "execution_count": 31,
   "metadata": {},
   "outputs": [
    {
     "data": {
      "text/html": [
       "<div>\n",
       "<style scoped>\n",
       "    .dataframe tbody tr th:only-of-type {\n",
       "        vertical-align: middle;\n",
       "    }\n",
       "\n",
       "    .dataframe tbody tr th {\n",
       "        vertical-align: top;\n",
       "    }\n",
       "\n",
       "    .dataframe thead th {\n",
       "        text-align: right;\n",
       "    }\n",
       "</style>\n",
       "<table border=\"1\" class=\"dataframe\">\n",
       "  <thead>\n",
       "    <tr style=\"text-align: right;\">\n",
       "      <th></th>\n",
       "      <th>OnHandQuantity</th>\n",
       "      <th>OnOrderQuantity</th>\n",
       "      <th>Total Order</th>\n",
       "      <th>UnitCost</th>\n",
       "      <th>Sales</th>\n",
       "    </tr>\n",
       "    <tr>\n",
       "      <th>StoreID</th>\n",
       "      <th></th>\n",
       "      <th></th>\n",
       "      <th></th>\n",
       "      <th></th>\n",
       "      <th></th>\n",
       "    </tr>\n",
       "  </thead>\n",
       "  <tbody>\n",
       "    <tr>\n",
       "      <th>1</th>\n",
       "      <td>117141</td>\n",
       "      <td>8732</td>\n",
       "      <td>125873</td>\n",
       "      <td>644794.77</td>\n",
       "      <td>13214710.71</td>\n",
       "    </tr>\n",
       "    <tr>\n",
       "      <th>10</th>\n",
       "      <td>137840</td>\n",
       "      <td>10219</td>\n",
       "      <td>148059</td>\n",
       "      <td>674945.51</td>\n",
       "      <td>13783430.41</td>\n",
       "    </tr>\n",
       "    <tr>\n",
       "      <th>100</th>\n",
       "      <td>122218</td>\n",
       "      <td>11395</td>\n",
       "      <td>133613</td>\n",
       "      <td>682156.32</td>\n",
       "      <td>13194220.12</td>\n",
       "    </tr>\n",
       "    <tr>\n",
       "      <th>101</th>\n",
       "      <td>115074</td>\n",
       "      <td>9078</td>\n",
       "      <td>124152</td>\n",
       "      <td>667453.95</td>\n",
       "      <td>13387886.02</td>\n",
       "    </tr>\n",
       "    <tr>\n",
       "      <th>102</th>\n",
       "      <td>121700</td>\n",
       "      <td>8462</td>\n",
       "      <td>130162</td>\n",
       "      <td>675293.66</td>\n",
       "      <td>13788011.65</td>\n",
       "    </tr>\n",
       "  </tbody>\n",
       "</table>\n",
       "</div>"
      ],
      "text/plain": [
       "         OnHandQuantity  OnOrderQuantity  Total Order   UnitCost        Sales\n",
       "StoreID                                                                      \n",
       "1                117141             8732       125873  644794.77  13214710.71\n",
       "10               137840            10219       148059  674945.51  13783430.41\n",
       "100              122218            11395       133613  682156.32  13194220.12\n",
       "101              115074             9078       124152  667453.95  13387886.02\n",
       "102              121700             8462       130162  675293.66  13788011.65"
      ]
     },
     "execution_count": 31,
     "metadata": {},
     "output_type": "execute_result"
    }
   ],
   "source": [
    "### get total sale of all storeids\n",
    "result3 = sample_data3.groupby(\"StoreID\").sum()\n",
    "result3.head()"
   ]
  },
  {
   "cell_type": "code",
   "execution_count": 32,
   "metadata": {},
   "outputs": [
    {
     "data": {
      "text/plain": [
       "229655653.1699993"
      ]
     },
     "execution_count": 32,
     "metadata": {},
     "output_type": "execute_result"
    }
   ],
   "source": [
    "### to check maximum sale value\n",
    "Max_sale_Store = result3[\"Sales\"].max()\n",
    "Max_sale_Store"
   ]
  },
  {
   "cell_type": "markdown",
   "metadata": {},
   "source": [
    "### Ans 3. StoreID 199 did the highest sale in 2009."
   ]
  },
  {
   "cell_type": "code",
   "execution_count": 33,
   "metadata": {},
   "outputs": [
    {
     "name": "stdout",
     "output_type": "stream",
     "text": [
      "StoreID\n",
      "199    2.296557e+08\n",
      "Name: Sales, dtype: float64\n"
     ]
    }
   ],
   "source": [
    "### to get StoreId for maximum sale\n",
    "print (result3[\"Sales\"][result3['Sales'] == (result3[\"Sales\"].max())])\n"
   ]
  },
  {
   "cell_type": "code",
   "execution_count": 34,
   "metadata": {},
   "outputs": [
    {
     "data": {
      "image/png": "[encoded data removed]",
      "text/plain": [
       "<Figure size 360x360 with 1 Axes>"
      ]
     },
     "metadata": {},
     "output_type": "display_data"
    }
   ],
   "source": [
    "# visualization of Ans.8\n",
    "import matplotlib.pyplot as plt\n",
    "top10_store = result3.nlargest(10,\"Sales\")\n",
    "plot = top10_store.plot.pie(y='Sales',figsize=(5,5), autopct = '%1.2f%%')"
   ]
  }
 ],
 "metadata": {
  "kernelspec": {
   "display_name": "Python 3",
   "language": "python",
   "name": "python3"
  },
  "language_info": {
   "codemirror_mode": {
    "name": "ipython",
    "version": 3
   },
   "file_extension": ".py",
   "mimetype": "text/x-python",
   "name": "python",
   "nbconvert_exporter": "python",
   "pygments_lexer": "ipython3",
   "version": "3.8.5"
  }
 },
 "nbformat": 4,
 "nbformat_minor": 4
}
